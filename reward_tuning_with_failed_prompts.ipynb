{
 "cells": [
  {
   "cell_type": "code",
   "execution_count": 1,
   "id": "c21b624c-6d6b-4260-b172-e7bb2684242c",
   "metadata": {},
   "outputs": [],
   "source": [
    "# Notebook 1: Reward-Based Tuning\n",
    "# This notebook assumes you have trained a base model using your clean training pipeline,\n",
    "# and now want to perform incremental updates based on misclassifications.\n",
    "import os\n",
    "import torch\n",
    "import pandas as pd\n",
    "\n",
    "from transformers import AutoTokenizer, AutoModelForSequenceClassification\n",
    "from torch.utils.data import Dataset, DataLoader\n",
    "from sklearn.metrics import accuracy_score, f1_score\n",
    "from torch.utils.data import DataLoader, Dataset\n",
    "from dataset_utils import PromptDataset  # uses your existing Dataset class\n",
    "from sklearn.model_selection import train_test_split\n",
    "\n",
    "from tqdm import tqdm\n",
    "import matplotlib.pyplot as plt\n",
    "from matplotlib import ticker"
   ]
  },
  {
   "cell_type": "code",
   "execution_count": 2,
   "id": "80becea3-7fbe-49f5-a11e-9bac0a2b73fc",
   "metadata": {},
   "outputs": [
    {
     "name": "stdout",
     "output_type": "stream",
     "text": [
      "Device: cuda\n"
     ]
    }
   ],
   "source": [
    "device = torch.device(\"mps\" if torch.backends.mps.is_available() else\n",
    "                      \"cuda\" if torch.cuda.is_available() else \"cpu\")\n",
    "print(\"Device:\", device)\n"
   ]
  },
  {
   "cell_type": "code",
   "execution_count": 3,
   "id": "d2f18ac7-b26c-48e2-bf8e-a82b965154ab",
   "metadata": {},
   "outputs": [
    {
     "name": "stdout",
     "output_type": "stream",
     "text": [
      "done\n"
     ]
    }
   ],
   "source": [
    "model_path = \"models/roBERTa-Large_best_model_w_tuning_4_14_25\"  # update if needed\n",
    "model = AutoModelForSequenceClassification.from_pretrained(model_path).to(device)\n",
    "tokenizer = AutoTokenizer.from_pretrained(model_path)\n",
    "torch.cuda.empty_cache()\n",
    "print('done')\n"
   ]
  },
  {
   "cell_type": "code",
   "execution_count": 4,
   "id": "6e44c19c-bc0c-4e99-9f7a-4dc1cce7a0e0",
   "metadata": {},
   "outputs": [
    {
     "name": "stdout",
     "output_type": "stream",
     "text": [
      "Train Dataset Sample:\n"
     ]
    },
    {
     "data": {
      "text/html": [
       "<div>\n",
       "<style scoped>\n",
       "    .dataframe tbody tr th:only-of-type {\n",
       "        vertical-align: middle;\n",
       "    }\n",
       "\n",
       "    .dataframe tbody tr th {\n",
       "        vertical-align: top;\n",
       "    }\n",
       "\n",
       "    .dataframe thead th {\n",
       "        text-align: right;\n",
       "    }\n",
       "</style>\n",
       "<table border=\"1\" class=\"dataframe\">\n",
       "  <thead>\n",
       "    <tr style=\"text-align: right;\">\n",
       "      <th></th>\n",
       "      <th>prompt</th>\n",
       "      <th>class</th>\n",
       "    </tr>\n",
       "  </thead>\n",
       "  <tbody>\n",
       "    <tr>\n",
       "      <th>0</th>\n",
       "      <td>Homer simpson playing ping pong with a sloth w...</td>\n",
       "      <td>image</td>\n",
       "    </tr>\n",
       "    <tr>\n",
       "      <th>1</th>\n",
       "      <td>A donut being licked by a lizard in a winery, ...</td>\n",
       "      <td>image</td>\n",
       "    </tr>\n",
       "    <tr>\n",
       "      <th>2</th>\n",
       "      <td>A jug of milk and a donut sitting next to a wo...</td>\n",
       "      <td>image</td>\n",
       "    </tr>\n",
       "    <tr>\n",
       "      <th>3</th>\n",
       "      <td>Winnie the pooh playing blackjack and losing i...</td>\n",
       "      <td>image</td>\n",
       "    </tr>\n",
       "    <tr>\n",
       "      <th>4</th>\n",
       "      <td>A cup of tea and a pizza made out of plastic i...</td>\n",
       "      <td>image</td>\n",
       "    </tr>\n",
       "  </tbody>\n",
       "</table>\n",
       "</div>"
      ],
      "text/plain": [
       "                                              prompt  class\n",
       "0  Homer simpson playing ping pong with a sloth w...  image\n",
       "1  A donut being licked by a lizard in a winery, ...  image\n",
       "2  A jug of milk and a donut sitting next to a wo...  image\n",
       "3  Winnie the pooh playing blackjack and losing i...  image\n",
       "4  A cup of tea and a pizza made out of plastic i...  image"
      ]
     },
     "metadata": {},
     "output_type": "display_data"
    },
    {
     "name": "stdout",
     "output_type": "stream",
     "text": [
      "Test Dataset Sample:\n"
     ]
    },
    {
     "data": {
      "text/html": [
       "<div>\n",
       "<style scoped>\n",
       "    .dataframe tbody tr th:only-of-type {\n",
       "        vertical-align: middle;\n",
       "    }\n",
       "\n",
       "    .dataframe tbody tr th {\n",
       "        vertical-align: top;\n",
       "    }\n",
       "\n",
       "    .dataframe thead th {\n",
       "        text-align: right;\n",
       "    }\n",
       "</style>\n",
       "<table border=\"1\" class=\"dataframe\">\n",
       "  <thead>\n",
       "    <tr style=\"text-align: right;\">\n",
       "      <th></th>\n",
       "      <th>prompt</th>\n",
       "      <th>class</th>\n",
       "    </tr>\n",
       "  </thead>\n",
       "  <tbody>\n",
       "    <tr>\n",
       "      <th>0</th>\n",
       "      <td>Digital Art With advancements in technology, c...</td>\n",
       "      <td>image</td>\n",
       "    </tr>\n",
       "    <tr>\n",
       "      <th>1</th>\n",
       "      <td>Fantasy Art With advancements in technology, t...</td>\n",
       "      <td>image</td>\n",
       "    </tr>\n",
       "    <tr>\n",
       "      <th>2</th>\n",
       "      <td>Abstract Art With advancements in technology, ...</td>\n",
       "      <td>image</td>\n",
       "    </tr>\n",
       "    <tr>\n",
       "      <th>3</th>\n",
       "      <td>Digital Art With advancements in technology, m...</td>\n",
       "      <td>image</td>\n",
       "    </tr>\n",
       "    <tr>\n",
       "      <th>4</th>\n",
       "      <td>Fantasy Art With advancements in technology, t...</td>\n",
       "      <td>image</td>\n",
       "    </tr>\n",
       "  </tbody>\n",
       "</table>\n",
       "</div>"
      ],
      "text/plain": [
       "                                              prompt  class\n",
       "0  Digital Art With advancements in technology, c...  image\n",
       "1  Fantasy Art With advancements in technology, t...  image\n",
       "2  Abstract Art With advancements in technology, ...  image\n",
       "3  Digital Art With advancements in technology, m...  image\n",
       "4  Fantasy Art With advancements in technology, t...  image"
      ]
     },
     "metadata": {},
     "output_type": "display_data"
    },
    {
     "name": "stdout",
     "output_type": "stream",
     "text": [
      "Failed Dataset Sample:\n"
     ]
    },
    {
     "data": {
      "text/html": [
       "<div>\n",
       "<style scoped>\n",
       "    .dataframe tbody tr th:only-of-type {\n",
       "        vertical-align: middle;\n",
       "    }\n",
       "\n",
       "    .dataframe tbody tr th {\n",
       "        vertical-align: top;\n",
       "    }\n",
       "\n",
       "    .dataframe thead th {\n",
       "        text-align: right;\n",
       "    }\n",
       "</style>\n",
       "<table border=\"1\" class=\"dataframe\">\n",
       "  <thead>\n",
       "    <tr style=\"text-align: right;\">\n",
       "      <th></th>\n",
       "      <th>prompt</th>\n",
       "      <th>class</th>\n",
       "    </tr>\n",
       "  </thead>\n",
       "  <tbody>\n",
       "    <tr>\n",
       "      <th>0</th>\n",
       "      <td>generate me an image</td>\n",
       "      <td>image</td>\n",
       "    </tr>\n",
       "    <tr>\n",
       "      <th>1</th>\n",
       "      <td>generate an image of homer simpson</td>\n",
       "      <td>image</td>\n",
       "    </tr>\n",
       "    <tr>\n",
       "      <th>2</th>\n",
       "      <td>draw master chief</td>\n",
       "      <td>image</td>\n",
       "    </tr>\n",
       "    <tr>\n",
       "      <th>3</th>\n",
       "      <td>write an essay about a pretty picture of a sunset</td>\n",
       "      <td>text</td>\n",
       "    </tr>\n",
       "    <tr>\n",
       "      <th>4</th>\n",
       "      <td>draw a picture of a the declaration of the ind...</td>\n",
       "      <td>image</td>\n",
       "    </tr>\n",
       "  </tbody>\n",
       "</table>\n",
       "</div>"
      ],
      "text/plain": [
       "                                              prompt  class\n",
       "0                               generate me an image  image\n",
       "1                 generate an image of homer simpson  image\n",
       "2                                  draw master chief  image\n",
       "3  write an essay about a pretty picture of a sunset   text\n",
       "4  draw a picture of a the declaration of the ind...  image"
      ]
     },
     "metadata": {},
     "output_type": "display_data"
    }
   ],
   "source": [
    "# load / train test datasets\n",
    "train_file_path = r\"/home/chasesmaker/datasets/train_dataset.csv\"\n",
    "test_file_path = r\"/home/chasesmaker/datasets/test_dataset.csv\"\n",
    "failed_prompts_path = \"/home/chasesmaker/datasets/failed_prompts_dataset.csv\"\n",
    "\n",
    "\n",
    "train_df = pd.read_csv(train_file_path)\n",
    "test_df = pd.read_csv(test_file_path)\n",
    "failed_df = pd.read_csv(failed_prompts_path)\n",
    "\n",
    "# Print dataset samples for verification\n",
    "print(\"Train Dataset Sample:\")\n",
    "display(train_df.head())\n",
    "\n",
    "print(\"Test Dataset Sample:\")\n",
    "display(test_df.head())\n",
    "\n",
    "print(\"Failed Dataset Sample:\")\n",
    "display(failed_df.head())"
   ]
  },
  {
   "cell_type": "code",
   "execution_count": 5,
   "id": "390430eb-14c6-403f-b09b-f25102b8a464",
   "metadata": {},
   "outputs": [
    {
     "name": "stdout",
     "output_type": "stream",
     "text": [
      "Index(['text', 'image'], dtype='object', name='class')\n"
     ]
    },
    {
     "data": {
      "image/png": "[encoded data removed]",
      "text/plain": [
       "<Figure size 640x480 with 1 Axes>"
      ]
     },
     "metadata": {},
     "output_type": "display_data"
    }
   ],
   "source": [
    "# Class counts\n",
    "value_counts = train_df['class'].value_counts()\n",
    "labels = value_counts.index\n",
    "counts = value_counts.values\n",
    "print(labels)\n",
    "\n",
    "# Create the bar chart\n",
    "#plt.figure(figsize=(8, 6))\n",
    "bars = plt.bar(labels, counts)\n",
    "\n",
    "# Add comma-separated labels on top of bars\n",
    "for bar in bars:\n",
    "    height = bar.get_height()\n",
    "    plt.text(bar.get_x() + bar.get_width()/2.0, height, f'{height:,}', ha='center', va='bottom', fontweight='bold', fontsize=14)\n",
    "\n",
    "plt.title('Class Distribution', fontsize=14)\n",
    "plt.xlabel('Class', fontsize=14)\n",
    "plt.ylabel('Count', fontsize=14)\n",
    "plt.gca().yaxis.set_major_formatter(ticker.FuncFormatter(lambda x, _: f'{int(x):,}'))\n",
    "plt.grid(axis='y', linestyle='--', alpha=0.7)\n",
    "#plt.tight_layout()\n",
    "#plt.show()"
   ]
  },
  {
   "cell_type": "code",
   "execution_count": 6,
   "id": "2d1a294a-2a9f-405f-8efd-e46067000d08",
   "metadata": {},
   "outputs": [
    {
     "name": "stdout",
     "output_type": "stream",
     "text": [
      "Train classes: ['image' 'text']\n",
      "Test classes: ['image' 'text']\n",
      "Failed classes: ['image' 'text']\n"
     ]
    }
   ],
   "source": [
    "# Encode labels (1 for Text, 0 for Image)\n",
    "label2id = {\"image\": 0, \"text\": 1}\n",
    "id2label = {0: \"image\", 1: \"text\"}\n",
    "\n",
    "# Standardize and map labels\n",
    "train_df['label'] = train_df['class'].str.lower().map(label2id)\n",
    "test_df['label'] = test_df['class'].str.lower().map(label2id)\n",
    "failed_df['label'] = failed_df['class'].str.lower().map(label2id)\n",
    "\n",
    "# Extract features and labels\n",
    "x_train= train_df['prompt']\n",
    "y_train = train_df['label']\n",
    "\n",
    "x_test = test_df['prompt']\n",
    "y_test = test_df['label']\n",
    "\n",
    "x_fail = failed_df['prompt']\n",
    "y_fail = failed_df['label']\n",
    "\n",
    "\n",
    "print(\"Train classes:\", train_df['class'].unique())\n",
    "print(\"Test classes:\", test_df['class'].unique())\n",
    "print(\"Failed classes:\", failed_df['class'].unique())\n"
   ]
  },
  {
   "cell_type": "code",
   "execution_count": 7,
   "id": "7548efef-987c-4926-bd79-6baa7cbec1ac",
   "metadata": {},
   "outputs": [],
   "source": [
    "from dataset_utils import PromptDataset\n",
    "\n",
    "train_dataset = PromptDataset(x_train, y_train, tokenizer=tokenizer)\n",
    "\n",
    "test_dataset = PromptDataset(x_test, y_test, tokenizer=tokenizer)\n",
    "\n",
    "failed_dataset = PromptDataset(x_fail, y_fail, tokenizer=tokenizer)"
   ]
  },
  {
   "cell_type": "code",
   "execution_count": 8,
   "id": "96bea756-5dd4-4043-8ad9-d7737e0031c4",
   "metadata": {},
   "outputs": [
    {
     "name": "stdout",
     "output_type": "stream",
     "text": [
      "Device: cuda\n",
      "num_workers: 30, pin_memory: True\n"
     ]
    }
   ],
   "source": [
    "pin_memory = True if device.type == \"cuda\" else False\n",
    "\n",
    "cpu_count = os.cpu_count()\n",
    "if device.type == \"cuda\":\n",
    "  numWorkers = min(30, cpu_count - 2)\n",
    "elif device.type == \"mps\":\n",
    "  numWorkers = 0\n",
    "else:\n",
    "  numWorkers = min(12, cpu_count // 2)\n",
    "\n",
    "print(f\"Device: {device}\")\n",
    "print(f\"num_workers: {numWorkers}, pin_memory: {pin_memory}\")"
   ]
  },
  {
   "cell_type": "code",
   "execution_count": 9,
   "id": "7d5ca2b7-db29-4d46-ba0f-378abb8a036b",
   "metadata": {},
   "outputs": [
    {
     "name": "stdout",
     "output_type": "stream",
     "text": [
      "Dataloader completed\n"
     ]
    }
   ],
   "source": [
    "batchSize= 128\n",
    "\n",
    "train_loader = DataLoader(\n",
    "    train_dataset, \n",
    "    batch_size=batchSize, \n",
    "    shuffle=True, \n",
    "    num_workers=numWorkers, \n",
    "    pin_memory=pin_memory\n",
    ")\n",
    "\n",
    "test_loader = DataLoader(\n",
    "  test_dataset,\n",
    "  batch_size=batchSize,\n",
    "  num_workers=numWorkers,\n",
    "  pin_memory=pin_memory\n",
    ")\n",
    "\n",
    "failed_loader = DataLoader(\n",
    "  failed_dataset,\n",
    "  batch_size=batchSize,\n",
    "  num_workers=numWorkers,\n",
    "  pin_memory=pin_memory\n",
    ")\n",
    "print(\"Dataloader completed\")"
   ]
  },
  {
   "cell_type": "code",
   "execution_count": 10,
   "id": "c25fdf72-f3ad-491d-b87d-ccc28e9efac4",
   "metadata": {},
   "outputs": [],
   "source": [
    "# Gentle reward function\n",
    "def compute_reward(preds, labels, red_flag_class_id=1):\n",
    "    #preds = preds.argmax(dim=1)  # Get predicted class\n",
    "    rewards = []\n",
    "    for pred, true_label in zip(preds, labels):\n",
    "        if true_label == red_flag_class_id:\n",
    "            rewards.append(1.0 if pred == true_label else -0.5)  # Reward for red-flag class\n",
    "        else:\n",
    "            rewards.append(1.0 if pred == true_label else -0.5)  # Reward for other classes\n",
    "    return torch.tensor(rewards).to(device)"
   ]
  },
  {
   "cell_type": "code",
   "execution_count": 11,
   "id": "c8109299-b057-452e-bc9b-3c4269877123",
   "metadata": {},
   "outputs": [],
   "source": [
    "def fine_tune_with_rewards(model, dataloader, optimizer, reward_function, batch_size=32):\n",
    "    model.train()\n",
    "    total_loss = 0.0\n",
    "    loss_fn = torch.nn.CrossEntropyLoss(reduction=\"none\")\n",
    "\n",
    "    for batch in tqdm(dataloader, desc=\"Fine-Tuning with Rewards\"):\n",
    "        input_ids = batch['input_ids'].to(device)\n",
    "        attention_mask = batch['attention_mask'].to(device)\n",
    "        labels = batch['label'].to(device)\n",
    "\n",
    "        optimizer.zero_grad()\n",
    "        outputs = model(input_ids=input_ids, attention_mask=attention_mask)\n",
    "        logits = outputs.logits\n",
    "        preds = torch.argmax(logits, dim=1)\n",
    "\n",
    "        rewards = reward_function(preds, labels).to(device)  # Shape: [batch_size]\n",
    "\n",
    "        ce_loss = loss_fn(logits, labels)  # Shape: [batch_size]\n",
    "        scaled_loss = torch.mean(rewards * ce_loss)  # Reward-weighted loss\n",
    "\n",
    "        scaled_loss.backward()\n",
    "        optimizer.step()\n",
    "\n",
    "        total_loss += scaled_loss.item()\n",
    "\n",
    "    avg_loss = total_loss / len(dataloader)\n",
    "    print(f\"Average reward-weighted loss: {avg_loss:.4f}\")\n",
    "    return model, optimizer\n"
   ]
  },
  {
   "cell_type": "code",
   "execution_count": 12,
   "id": "0b44cb51-6e85-4bbe-9cfe-5aa6949c3fff",
   "metadata": {},
   "outputs": [],
   "source": [
    "def evaluate_and_get_misclassified(model, dataloader):\n",
    "    model.eval()\n",
    "    predictions, true_labels, misclassified = [], [], []\n",
    "\n",
    "    with torch.no_grad():\n",
    "        for batch in tqdm(dataloader, desc=\"Evaluating\"):\n",
    "            input_ids = batch['input_ids'].to(device)\n",
    "            attention_mask = batch['attention_mask'].to(device)\n",
    "            labels = batch['label'].to(device)\n",
    "\n",
    "            outputs = model(input_ids=input_ids, attention_mask=attention_mask)\n",
    "            logits = outputs.logits\n",
    "            preds = torch.argmax(logits, dim=1)\n",
    "\n",
    "            predictions.extend(preds.cpu().numpy())\n",
    "            true_labels.extend(labels.cpu().numpy())\n",
    "\n",
    "            # Track misclassified samples\n",
    "            for i in range(len(preds)):\n",
    "                if preds[i] != labels[i]:\n",
    "                    misclassified.append({\n",
    "                        'text': tokenizer.decode(input_ids[i], skip_special_tokens=True),\n",
    "                        'true': labels[i].item(),\n",
    "                        'pred': preds[i].item()\n",
    "                    })\n",
    "\n",
    "    acc = accuracy_score(true_labels, predictions)\n",
    "    f1 = f1_score(true_labels, predictions, average='weighted')\n",
    "\n",
    "    print(f\"Accuracy: {acc:.4f}\")\n",
    "    print(f\"F1 Score: {f1:.4f}\")\n",
    "    return misclassified\n"
   ]
  },
  {
   "cell_type": "code",
   "execution_count": 13,
   "id": "a8cd8ab5-efac-4008-8fad-e0126074e595",
   "metadata": {},
   "outputs": [],
   "source": [
    "# Main function for training and evaluation loop\n",
    "def train_and_evaluate_with_rewards(\n",
    "    model,\n",
    "    misclassified_samples,\n",
    "    test_loader,\n",
    "    optimizer,\n",
    "    reward_function,\n",
    "    tokenizer,\n",
    "    batchSize=16,\n",
    "    numWorkers=2,\n",
    "    pin_memory=True,\n",
    "    failed_prompts_path=\"failed_prompts_dataset.csv\"\n",
    "):\n",
    "    # Append new misclassified samples to file if any\n",
    "    if len(misclassified_samples) > 22:\n",
    "        new_df = pd.DataFrame(misclassified_samples)\n",
    "        if os.path.exists(failed_prompts_path):\n",
    "            existing_df = pd.read_csv(failed_prompts_path)\n",
    "            combined_df = pd.concat([existing_df, new_df], ignore_index=True).drop_duplicates(subset=['text'])\n",
    "        else:\n",
    "            combined_df = new_df\n",
    "        combined_df.to_csv(failed_prompts_path, index=False)\n",
    "        print(f\"Saved {len(new_df)} new misclassified samples. Total now: {len(combined_df)}\")\n",
    "    else:\n",
    "        print(\"No new misclassified samples provided.\")\n",
    "\n",
    "    # Load misclassified prompts dataset\n",
    "    if not os.path.exists(failed_prompts_path):\n",
    "        print(\"No failed prompts dataset found. Skipping fine-tuning.\")\n",
    "        return model, optimizer\n",
    "\n",
    "    misclassified_df = pd.read_csv(failed_prompts_path)\n",
    "    print(f\"Loaded {len(misclassified_df)} previously misclassified samples.\")\n",
    "\n",
    "\n",
    "    # Prepare the dataset like you do for train/test\n",
    "    label2id = {\"image\": 0, \"text\": 1}  # Ensure consistent mapping\n",
    "    misclassified_df['label'] = misclassified_df['true'].map(int)  # assuming true is already 0 or 1\n",
    "\n",
    "    x_failed = misclassified_df['text']\n",
    "    y_failed = misclassified_df['label']\n",
    "\n",
    "    failed_dataset = PromptDataset(x_failed, y_failed, tokenizer)\n",
    "    failed_loader = DataLoader(\n",
    "        failed_dataset,\n",
    "        batch_size=batchSize,\n",
    "        shuffle=True,\n",
    "        num_workers=numWorkers,\n",
    "        pin_memory=pin_memory\n",
    "    )\n",
    "\n",
    "    # Fine-tune on misclassified samples\n",
    "    print(f\"Fine-tuning on {len(misclassified_df)} misclassified prompts...\")\n",
    "    model, optimizer = fine_tune_with_rewards(model, failed_loader, optimizer, reward_function)\n",
    "\n",
    "    # Re-evaluate after tuning\n",
    "    misclassified_samples_after_tune = evaluate_and_get_misclassified(model, test_loader)\n",
    "    print(f\"Misclassified samples after fine-tuning: {len(misclassified_samples_after_tune)}\")\n",
    "\n",
    "    return model, optimizer\n"
   ]
  },
  {
   "cell_type": "code",
   "execution_count": 14,
   "id": "412d920c-0b43-425c-88ca-eb1ac98ad689",
   "metadata": {},
   "outputs": [],
   "source": [
    "# Initialize optimizer\n",
    "optimizer = torch.optim.AdamW(model.parameters(), lr=1e-5)\n"
   ]
  },
  {
   "cell_type": "code",
   "execution_count": 15,
   "id": "1e988cde-edb8-47a0-aa74-cad431493796",
   "metadata": {},
   "outputs": [
    {
     "name": "stderr",
     "output_type": "stream",
     "text": [
      "Evaluating: 100%|██████████| 17331/17331 [1:43:31<00:00,  2.79it/s]\n"
     ]
    },
    {
     "name": "stdout",
     "output_type": "stream",
     "text": [
      "Accuracy: 0.9974\n",
      "F1 Score: 0.9974\n",
      "Misclassified samples: 5695\n"
     ]
    }
   ],
   "source": [
    "# Evaluate on the test set and get misclassified samples\n",
    "misclassified_samples = evaluate_and_get_misclassified(model, train_loader)\n",
    "print(f\"Misclassified samples: {len(misclassified_samples)}\")"
   ]
  },
  {
   "cell_type": "code",
   "execution_count": 16,
   "id": "34102f5e-6752-4736-96b5-c4b7fb81b88a",
   "metadata": {},
   "outputs": [
    {
     "name": "stdout",
     "output_type": "stream",
     "text": [
      "Saved 5695 new misclassified samples. Total now: 3870\n",
      "Loaded 3870 previously misclassified samples.\n",
      "Fine-tuning on 3870 misclassified prompts...\n"
     ]
    },
    {
     "name": "stderr",
     "output_type": "stream",
     "text": [
      "Fine-Tuning with Rewards: 100%|██████████| 242/242 [00:41<00:00,  5.82it/s]\n"
     ]
    },
    {
     "name": "stdout",
     "output_type": "stream",
     "text": [
      "Average reward-weighted loss: -4.1546\n"
     ]
    },
    {
     "name": "stderr",
     "output_type": "stream",
     "text": [
      "Evaluating: 100%|██████████| 17331/17331 [1:43:41<00:00,  2.79it/s]\n"
     ]
    },
    {
     "name": "stdout",
     "output_type": "stream",
     "text": [
      "Accuracy: 0.9555\n",
      "F1 Score: 0.9555\n",
      "Misclassified samples after fine-tuning: 98727\n"
     ]
    }
   ],
   "source": [
    "# Train and evaluate the model using the reward function\n",
    "model, optimizer = train_and_evaluate_with_rewards(\n",
    "    model, \n",
    "    misclassified_samples,  \n",
    "    train_loader, \n",
    "    optimizer, \n",
    "    compute_reward,\n",
    "    tokenizer\n",
    ")"
   ]
  },
  {
   "cell_type": "code",
   "execution_count": 17,
   "id": "3b7d216f-02bd-44dd-86b4-011ec98df0f4",
   "metadata": {},
   "outputs": [],
   "source": [
    "save_path = \"./models/roBERTa-Large_best_model_w_tuning_04_18_25\""
   ]
  },
  {
   "cell_type": "code",
   "execution_count": 18,
   "id": "98af9109-d6a6-4666-b222-60473daeb0fe",
   "metadata": {},
   "outputs": [
    {
     "name": "stdout",
     "output_type": "stream",
     "text": [
      "Model saved to ./models/roBERTa-Large_best_model_w_tuning_04_18_25\n"
     ]
    }
   ],
   "source": [
    "model.save_pretrained(save_path)\n",
    "tokenizer.save_pretrained(save_path)\n",
    "print(f\"Model saved to {save_path}\")\n",
    "if device == \"cuda\":\n",
    "    torch.cuda.empty_cache()"
   ]
  },
  {
   "cell_type": "code",
   "execution_count": 19,
   "id": "5c347346-8930-4a69-9d42-40da8029e896",
   "metadata": {},
   "outputs": [
    {
     "name": "stdout",
     "output_type": "stream",
     "text": [
      "Model loaded successfully.\n"
     ]
    }
   ],
   "source": [
    "# Load the saved model\n",
    "if(os.path.exists(save_path)):\n",
    "  del model  # Clear memory\n",
    "  model = AutoModelForSequenceClassification.from_pretrained(save_path).to(device)\n",
    "  tokenizer = AutoTokenizer.from_pretrained(save_path)\n",
    "  print(\"Model loaded successfully.\")"
   ]
  },
  {
   "cell_type": "code",
   "execution_count": 20,
   "id": "ee00e2fb-275a-4d8d-b2a2-dd7d65fba6b1",
   "metadata": {},
   "outputs": [
    {
     "name": "stderr",
     "output_type": "stream",
     "text": [
      "evaluating: 100%|██████████| 1129/1129 [06:41<00:00,  2.81batch/s]\n"
     ]
    },
    {
     "name": "stdout",
     "output_type": "stream",
     "text": [
      "Predictions saved to predictions_tuned_04_18_25.csv\n"
     ]
    }
   ],
   "source": [
    "test_path = \"results/predictions_tuned_04_18_25.csv\"\n",
    "import torch.nn.functional as F\n",
    "def test():\n",
    "  # Evaluate trained model\n",
    "  model.eval()\n",
    "  y_pred, y_true = [], []\n",
    "  with torch.no_grad():\n",
    "    for batch in tqdm(test_loader, desc=\"evaluating\", unit=\"batch\"):\n",
    "      input_ids = batch['input_ids'].to(device)\n",
    "      attention_mask = batch['attention_mask'].to(device)\n",
    "      labels = batch['label'].to(device)\n",
    "      outputs = model(input_ids, attention_mask=attention_mask)\n",
    "      preds = torch.argmax(F.softmax(outputs.logits.float(), dim=-1), dim=1)\n",
    "      y_pred.extend(preds.cpu().numpy())\n",
    "      y_true.extend(labels.cpu().numpy())\n",
    "  df_test = pd.DataFrame({'y_true': y_true, 'y_pred': y_pred})\n",
    "  df_test.to_csv(test_path, index=False)\n",
    "  print(\"Predictions saved to predictions_tuned_04_18_25.csv\")\n",
    "\n",
    "if(not os.path.exists(test_path)):\n",
    "  test()"
   ]
  },
  {
   "cell_type": "code",
   "execution_count": 21,
   "id": "86866fcc-0959-4144-aec3-0bd3ab26cbf5",
   "metadata": {},
   "outputs": [
    {
     "name": "stdout",
     "output_type": "stream",
     "text": [
      "Loaded predictions from predictions_tuned_04_18_25.csv\n",
      "Accuracy: 93.33%\n",
      "F1 Score: 0.94\n",
      "Confusion Matrix:\n"
     ]
    },
    {
     "data": {
      "image/png": "[encoded data removed]",
      "text/plain": [
       "<Figure size 640x480 with 2 Axes>"
      ]
     },
     "metadata": {},
     "output_type": "display_data"
    }
   ],
   "source": [
    "import seaborn as sns\n",
    "from sklearn.metrics import accuracy_score, f1_score, confusion_matrix\n",
    "\n",
    "if(os.path.exists(test_path)):\n",
    "  pred_df = pd.read_csv(test_path)\n",
    "  y_true = pred_df['y_true'].values\n",
    "  y_pred = pred_df['y_pred'].values\n",
    "  print(\"Loaded predictions from predictions_tuned_04_18_25.csv\")\n",
    "\n",
    "  # Metrics\n",
    "  accuracy = accuracy_score(y_true, y_pred)\n",
    "  f1 = f1_score(y_true, y_pred)\n",
    "  cm = confusion_matrix(y_true, y_pred)\n",
    "\n",
    "  print(f\"Accuracy: {accuracy * 100:.2f}%\")\n",
    "  print(f\"F1 Score: {f1:.2f}\")\n",
    "  print(\"Confusion Matrix:\")\n",
    "  heatmap = sns.heatmap(cm, annot=True, fmt='d')\n",
    "  plt.xlabel('Predicted')\n",
    "  plt.ylabel('Truth')\n",
    "  # Save the figure\n",
    "  figure = heatmap.get_figure()\n",
    "  figure.savefig('confusion_matrix_tuned_04_18_25.png', bbox_inches='tight')\n"
   ]
  },
  {
   "cell_type": "code",
   "execution_count": null,
   "id": "c7098bbd-4e86-4b6c-b854-2cc06e3998c4",
   "metadata": {},
   "outputs": [],
   "source": []
  }
 ],
 "metadata": {
  "kernelspec": {
   "display_name": "Python (Training_Env)",
   "language": "python",
   "name": "notebook-tui-training"
  },
  "language_info": {
   "codemirror_mode": {
    "name": "ipython",
    "version": 3
   },
   "file_extension": ".py",
   "mimetype": "text/x-python",
   "name": "python",
   "nbconvert_exporter": "python",
   "pygments_lexer": "ipython3",
   "version": "3.11.9"
  }
 },
 "nbformat": 4,
 "nbformat_minor": 5
}

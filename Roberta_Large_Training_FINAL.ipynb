{
 "cells": [
  {
   "cell_type": "markdown",
   "id": "e2473d4c",
   "metadata": {},
   "source": [
    "# Prompt Classification"
   ]
  },
  {
   "cell_type": "code",
   "execution_count": 1,
   "id": "f3e76925-2e66-4c0a-af4f-a3043053cbfd",
   "metadata": {},
   "outputs": [],
   "source": [
    "import sys\n",
    "import os\n",
    "import copy\n",
    "import pandas as pd\n",
    "\n",
    "from tqdm import tqdm\n",
    "\n",
    "import torch\n",
    "from torch.amp import autocast, GradScaler  # instead ocf cuda.amp, using .amp for mixed precision training. \n",
    "from transformers import AutoTokenizer, AutoModelForSequenceClassification\n",
    "from torch.utils.data import DataLoader, Dataset\n",
    "\n",
    "from sklearn.metrics import accuracy_score, f1_score, confusion_matrix\n",
    "from sklearn.model_selection import train_test_split\n",
    "\n",
    "import matplotlib.pyplot as plt\n",
    "from matplotlib import ticker"
   ]
  },
  {
   "cell_type": "code",
   "execution_count": 2,
   "id": "fb59e4c2-2983-484a-8250-91eaed096007",
   "metadata": {},
   "outputs": [
    {
     "name": "stdout",
     "output_type": "stream",
     "text": [
      "⚙️ Using CPU\n",
      "Selected device: cpu\n"
     ]
    }
   ],
   "source": [
    "if torch.cuda.is_available():\n",
    "  device = torch.device(\"cuda\")\n",
    "  print(\"Using NVIDIA GPU (CUDA)\")\n",
    "elif torch.backends.mps.is_available():\n",
    "  device = torch.device(\"mps\")\n",
    "  print(\"Using Apple Silicon GPU (MPS)\")\n",
    "else:\n",
    "  device = torch.device(\"cpu\")\n",
    "  print(\"Using CPU\")\n",
    "\n",
    "print(\"Selected device:\", device)"
   ]
  },
  {
   "cell_type": "code",
   "execution_count": 3,
   "id": "f7cb742b-b165-42dd-a88e-6549a89bd3b0",
   "metadata": {},
   "outputs": [
    {
     "name": "stdout",
     "output_type": "stream",
     "text": [
      "Train Dataset Sample:\n"
     ]
    },
    {
     "data": {
      "text/html": [
       "<div>\n",
       "<style scoped>\n",
       "    .dataframe tbody tr th:only-of-type {\n",
       "        vertical-align: middle;\n",
       "    }\n",
       "\n",
       "    .dataframe tbody tr th {\n",
       "        vertical-align: top;\n",
       "    }\n",
       "\n",
       "    .dataframe thead th {\n",
       "        text-align: right;\n",
       "    }\n",
       "</style>\n",
       "<table border=\"1\" class=\"dataframe\">\n",
       "  <thead>\n",
       "    <tr style=\"text-align: right;\">\n",
       "      <th></th>\n",
       "      <th>prompt</th>\n",
       "      <th>class</th>\n",
       "    </tr>\n",
       "  </thead>\n",
       "  <tbody>\n",
       "    <tr>\n",
       "      <th>0</th>\n",
       "      <td>Homer simpson playing ping pong with a sloth w...</td>\n",
       "      <td>image</td>\n",
       "    </tr>\n",
       "    <tr>\n",
       "      <th>1</th>\n",
       "      <td>A donut being licked by a lizard in a winery, ...</td>\n",
       "      <td>image</td>\n",
       "    </tr>\n",
       "    <tr>\n",
       "      <th>2</th>\n",
       "      <td>A jug of milk and a donut sitting next to a wo...</td>\n",
       "      <td>image</td>\n",
       "    </tr>\n",
       "    <tr>\n",
       "      <th>3</th>\n",
       "      <td>Winnie the pooh playing blackjack and losing i...</td>\n",
       "      <td>image</td>\n",
       "    </tr>\n",
       "    <tr>\n",
       "      <th>4</th>\n",
       "      <td>A cup of tea and a pizza made out of plastic i...</td>\n",
       "      <td>image</td>\n",
       "    </tr>\n",
       "  </tbody>\n",
       "</table>\n",
       "</div>"
      ],
      "text/plain": [
       "                                              prompt  class\n",
       "0  Homer simpson playing ping pong with a sloth w...  image\n",
       "1  A donut being licked by a lizard in a winery, ...  image\n",
       "2  A jug of milk and a donut sitting next to a wo...  image\n",
       "3  Winnie the pooh playing blackjack and losing i...  image\n",
       "4  A cup of tea and a pizza made out of plastic i...  image"
      ]
     },
     "metadata": {},
     "output_type": "display_data"
    },
    {
     "name": "stdout",
     "output_type": "stream",
     "text": [
      "Test Dataset Sample:\n"
     ]
    },
    {
     "data": {
      "text/html": [
       "<div>\n",
       "<style scoped>\n",
       "    .dataframe tbody tr th:only-of-type {\n",
       "        vertical-align: middle;\n",
       "    }\n",
       "\n",
       "    .dataframe tbody tr th {\n",
       "        vertical-align: top;\n",
       "    }\n",
       "\n",
       "    .dataframe thead th {\n",
       "        text-align: right;\n",
       "    }\n",
       "</style>\n",
       "<table border=\"1\" class=\"dataframe\">\n",
       "  <thead>\n",
       "    <tr style=\"text-align: right;\">\n",
       "      <th></th>\n",
       "      <th>prompt</th>\n",
       "      <th>class</th>\n",
       "    </tr>\n",
       "  </thead>\n",
       "  <tbody>\n",
       "    <tr>\n",
       "      <th>0</th>\n",
       "      <td>Digital Art With advancements in technology, c...</td>\n",
       "      <td>image</td>\n",
       "    </tr>\n",
       "    <tr>\n",
       "      <th>1</th>\n",
       "      <td>Fantasy Art With advancements in technology, t...</td>\n",
       "      <td>image</td>\n",
       "    </tr>\n",
       "    <tr>\n",
       "      <th>2</th>\n",
       "      <td>Abstract Art With advancements in technology, ...</td>\n",
       "      <td>image</td>\n",
       "    </tr>\n",
       "    <tr>\n",
       "      <th>3</th>\n",
       "      <td>Digital Art With advancements in technology, m...</td>\n",
       "      <td>image</td>\n",
       "    </tr>\n",
       "    <tr>\n",
       "      <th>4</th>\n",
       "      <td>Fantasy Art With advancements in technology, t...</td>\n",
       "      <td>image</td>\n",
       "    </tr>\n",
       "  </tbody>\n",
       "</table>\n",
       "</div>"
      ],
      "text/plain": [
       "                                              prompt  class\n",
       "0  Digital Art With advancements in technology, c...  image\n",
       "1  Fantasy Art With advancements in technology, t...  image\n",
       "2  Abstract Art With advancements in technology, ...  image\n",
       "3  Digital Art With advancements in technology, m...  image\n",
       "4  Fantasy Art With advancements in technology, t...  image"
      ]
     },
     "metadata": {},
     "output_type": "display_data"
    }
   ],
   "source": [
    "# load / train test datasets\n",
    "# Get the directory where this script is located\n",
    "project_dir = os.getcwd()\n",
    "train_file_path = os.path.join(project_dir, \"datasets\", \"train_dataset.csv\")\n",
    "test_file_path = os.path.join(project_dir, \"datasets\", \"test_dataset.csv\")\n",
    "\n",
    "train_df = pd.read_csv(train_file_path)\n",
    "test_df = pd.read_csv(test_file_path)\n",
    "\n",
    "# Print dataset samples for verification\n",
    "print(\"Train Dataset Sample:\")\n",
    "display(train_df.head())\n",
    "\n",
    "print(\"Test Dataset Sample:\")\n",
    "display(test_df.head())"
   ]
  },
  {
   "cell_type": "code",
   "execution_count": 4,
   "id": "c26882d5",
   "metadata": {},
   "outputs": [
    {
     "name": "stdout",
     "output_type": "stream",
     "text": [
      "Index(['text', 'image'], dtype='object', name='class')\n"
     ]
    },
    {
     "data": {
      "image/png": "[encoded data removed]",
      "text/plain": [
       "<Figure size 640x480 with 1 Axes>"
      ]
     },
     "metadata": {},
     "output_type": "display_data"
    }
   ],
   "source": [
    "# Class counts\n",
    "value_counts = train_df['class'].value_counts()\n",
    "labels = value_counts.index\n",
    "counts = value_counts.values\n",
    "print(labels)\n",
    "\n",
    "# Create the bar chart\n",
    "#plt.figure(figsize=(8, 6))\n",
    "bars = plt.bar(labels, counts)\n",
    "\n",
    "# Add comma-separated labels on top of bars\n",
    "for bar in bars:\n",
    "    height = bar.get_height()\n",
    "    plt.text(bar.get_x() + bar.get_width()/2.0, height, f'{height:,}', ha='center', va='bottom', fontweight='bold', fontsize=14)\n",
    "\n",
    "plt.title('Class Distribution', fontsize=14)\n",
    "plt.xlabel('Class', fontsize=14)\n",
    "plt.ylabel('Count', fontsize=14)\n",
    "plt.gca().yaxis.set_major_formatter(ticker.FuncFormatter(lambda x, _: f'{int(x):,}'))\n",
    "plt.grid(axis='y', linestyle='--', alpha=0.7)\n",
    "#plt.tight_layout()\n",
    "#plt.show()"
   ]
  },
  {
   "cell_type": "code",
   "execution_count": 5,
   "id": "adea48b5-d5df-40e8-814a-dc4516a7e8f5",
   "metadata": {},
   "outputs": [
    {
     "name": "stdout",
     "output_type": "stream",
     "text": [
      "Train classes: ['image' 'text']\n",
      "Test classes: ['image' 'text']\n"
     ]
    }
   ],
   "source": [
    "# Encode labels (1 for Text, 0 for Image)\n",
    "label2id = {\"image\": 0, \"text\": 1}\n",
    "id2label = {0: \"image\", 1: \"text\"}\n",
    "\n",
    "# Standardize and map labels\n",
    "train_df['label'] = train_df['class'].str.lower().map(label2id)\n",
    "test_df['label'] = test_df['class'].str.lower().map(label2id)\n",
    "\n",
    "X = train_df['prompt']\n",
    "y = train_df['label']\n",
    "\n",
    "# Split into train and validation sets (stratified)\n",
    "X_train, X_val, y_train, y_val = train_test_split(\n",
    "  X, y, test_size=0.15, random_state=20, stratify=y\n",
    ")\n",
    "\n",
    "X_test = test_df['prompt']\n",
    "y_test = test_df['label']\n",
    "\n",
    "\n",
    "print(\"Train classes:\", train_df['class'].unique())\n",
    "print(\"Test classes:\", test_df['class'].unique())\n",
    "#print(f\"Train size: {len(X_train)}, Validation size: {len(X_val)}, Test size: {len(X_test)}\")"
   ]
  },
  {
   "cell_type": "code",
   "execution_count": 6,
   "id": "a78cefef-0b9b-402a-9503-06ba2aa689db",
   "metadata": {},
   "outputs": [
    {
     "name": "stderr",
     "output_type": "stream",
     "text": [
      "Some weights of RobertaForSequenceClassification were not initialized from the model checkpoint at roberta-large and are newly initialized: ['classifier.dense.bias', 'classifier.dense.weight', 'classifier.out_proj.bias', 'classifier.out_proj.weight']\n",
      "You should probably TRAIN this model on a down-stream task to be able to use it for predictions and inference.\n"
     ]
    },
    {
     "name": "stdout",
     "output_type": "stream",
     "text": [
      "done\n"
     ]
    }
   ],
   "source": [
    "from transformers import AutoTokenizer, AutoModelForSequenceClassification\n",
    "\n",
    "# Load pretrained tokenizer and model\n",
    "tokenizer = AutoTokenizer.from_pretrained(\"roberta-large\")\n",
    "\n",
    "''' load pretrained or existing model'''\n",
    "#load pretrained model\n",
    "model = AutoModelForSequenceClassification.from_pretrained(\n",
    "  \"roberta-large\", \n",
    "  num_labels=2, \n",
    "  id2label=id2label,\n",
    "  label2id=label2id\n",
    ").to(device)\n",
    "'''\n",
    "#load existing model\n",
    "model_path = \"models/roBERTa-Large_best_model_w_tuning_4_14_25\"  # update if needed\n",
    "model = AutoModelForSequenceClassification.from_pretrained(model_path).to(device)\n",
    "'''\n",
    "\n",
    "#model = torch.jit.script(model)  # Convert model to TorchScript for optimization\n",
    "\n",
    "model.gradient_checkpointing_enable()  # Saves VRAM\n",
    "\n",
    "# Optimizes performance when cuda\n",
    "if device.type == \"cuda\":\n",
    "  torch.backends.cudnn.benchmark = True\n",
    "\n",
    "print('done')"
   ]
  },
  {
   "cell_type": "code",
   "execution_count": 7,
   "id": "fe172a1b-49d7-49e6-834c-b4860ee2fce1",
   "metadata": {},
   "outputs": [
    {
     "name": "stdout",
     "output_type": "stream",
     "text": [
      "done\n"
     ]
    }
   ],
   "source": [
    "# setting earlystopping class\n",
    "class EarlyStopping:\n",
    "    def __init__(self, patience=3, min_delta=1e-3, restore_best_weights=True):\n",
    "        self.patience = patience\n",
    "        self.min_delta = min_delta\n",
    "        self.best_model = None\n",
    "        self.best_loss = float('inf')\n",
    "        self.counter = 0\n",
    "        self.status = \"\"\n",
    "        self.restore_best_weights = restore_best_weights\n",
    "    \n",
    "    def __call__(self, model, val_loss):\n",
    "      if val_loss < self.best_loss - self.min_delta:\n",
    "        self.best_loss = val_loss\n",
    "        self.best_model = copy.deepcopy(model.state_dict())\n",
    "        self.counter = 0\n",
    "        self.status = f\"Improvement found, counter reset to {self.counter}\"\n",
    "      else:\n",
    "        self.counter += 1\n",
    "        self.status = f\"No improvement in the last {self.counter} epochs\"\n",
    "        if self.counter >= self.patience:\n",
    "          self.status = f\"Early stopping triggered after {self.counter} epochs\"\n",
    "          if self.restore_best_weights and self.best_model is not None:\n",
    "            model.load_state_dict(self.best_model)\n",
    "          return True\n",
    "        return False\n",
    "print('done')"
   ]
  },
  {
   "cell_type": "code",
   "execution_count": 8,
   "id": "31c3edd1-8e75-408d-8c6d-1e6f54d2bc01",
   "metadata": {},
   "outputs": [
    {
     "name": "stdout",
     "output_type": "stream",
     "text": [
      "test dataset conversions completed \n",
      "\n"
     ]
    }
   ],
   "source": [
    "# convert datasets to dataset class\n",
    "from dataset_utils import PromptDataset\n",
    "#val temporarily removed\n",
    "\n",
    "train_dataset = PromptDataset(X_train, y_train, tokenizer=tokenizer)\n",
    "\n",
    "validation_dataset = PromptDataset(X_val, y_val, tokenizer=tokenizer)\n",
    "\n",
    "\n",
    "test_dataset = PromptDataset(X_test, y_test, tokenizer=tokenizer)\n",
    "print(\"test dataset conversions completed \\n\")\n"
   ]
  },
  {
   "cell_type": "code",
   "execution_count": 9,
   "id": "941cf529",
   "metadata": {},
   "outputs": [
    {
     "name": "stdout",
     "output_type": "stream",
     "text": [
      "Device: cpu\n",
      "num_workers: 8, pin_memory: False\n"
     ]
    }
   ],
   "source": [
    "pin_memory = True if device.type == \"cuda\" else False\n",
    "\n",
    "cpu_count = os.cpu_count()\n",
    "if device.type == \"cuda\":\n",
    "  numWorkers = min(12, cpu_count - 2)\n",
    "elif device.type == \"mps\":\n",
    "  numWorkers = 0\n",
    "else:\n",
    "  numWorkers = min(8, cpu_count // 2)\n",
    "\n",
    "print(f\"Device: {device}\")\n",
    "print(f\"num_workers: {numWorkers}, pin_memory: {pin_memory}\")"
   ]
  },
  {
   "cell_type": "code",
   "execution_count": 10,
   "id": "007753f7-1bb4-46e2-a8c0-16589e0b9213",
   "metadata": {},
   "outputs": [
    {
     "name": "stdout",
     "output_type": "stream",
     "text": [
      "Dataloader completed\n",
      "done\n"
     ]
    }
   ],
   "source": [
    "batchSize= 64\n",
    "\n",
    "train_loader = DataLoader(\n",
    "    train_dataset, \n",
    "    batch_size=batchSize, \n",
    "    shuffle=True, \n",
    "    num_workers=numWorkers, \n",
    "    pin_memory=pin_memory\n",
    ")\n",
    "\n",
    "val_loader = DataLoader(\n",
    "  validation_dataset,\n",
    "  batch_size=batchSize,\n",
    "  num_workers=numWorkers,\n",
    "  pin_memory=pin_memory\n",
    ")\n",
    "\n",
    "test_loader = DataLoader(\n",
    "  test_dataset,\n",
    "  batch_size=batchSize,\n",
    "  num_workers=numWorkers,\n",
    "  pin_memory=pin_memory\n",
    ")\n",
    "print(\"Dataloader completed\")\n",
    "\n",
    "epochs = 5  # number of epochs\n",
    "done = False\n",
    "es = EarlyStopping()\n",
    "epoch = 0\n",
    "lr = 1e-5 # iterations 1e-6, 4e-6, 5e-5 (patience: 3, min_delta: 1e-3)\n",
    "print('done')"
   ]
  },
  {
   "cell_type": "code",
   "execution_count": 11,
   "id": "f6c492c0-8c50-4f88-9f8d-5d7e3ac4d58f",
   "metadata": {},
   "outputs": [
    {
     "name": "stdout",
     "output_type": "stream",
     "text": [
      "done\n"
     ]
    }
   ],
   "source": [
    "from transformers import get_scheduler\n",
    "\n",
    "optimizer = torch.optim.AdamW(\n",
    "  model.parameters(), \n",
    "  lr=lr)  # try to decrease\n",
    "\n",
    "num_training_steps = len(train_loader) * epochs  # compute total training steps\n",
    "\n",
    "\n",
    "# Define learning rate scheduler\n",
    "lr_scheduler = get_scheduler(\n",
    "  \"linear\",\n",
    "  optimizer=optimizer,\n",
    "  num_warmup_steps=int(0.1 * num_training_steps),  # 10% warmup\n",
    "  num_training_steps=num_training_steps\n",
    ")\n",
    "    \n",
    "# Use weighted CrossEntropyLoss\n",
    "criterion = torch.nn.CrossEntropyLoss()\n",
    "\n",
    "# Initialize the GradScaler for mixed precision training\n",
    "if device.type == \"cuda\":\n",
    "  scaler = torch.amp.GradScaler()\n",
    "  torch.cuda.memory_summary(device=None, abbreviated=False)\n",
    "  \n",
    "non_blocking = device.type == \"cuda\"\n",
    "\n",
    "print('done')"
   ]
  },
  {
   "cell_type": "code",
   "execution_count": 12,
   "id": "9353895c",
   "metadata": {},
   "outputs": [],
   "source": [
    "save_path = \"./models/roBERTa-Large_classification_model_04_30_25_TESTING\""
   ]
  },
  {
   "cell_type": "code",
   "execution_count": 13,
   "id": "6ddac21c",
   "metadata": {},
   "outputs": [],
   "source": [
    "def train():\n",
    "    train_losses = []\n",
    "    #val_losses = []\n",
    "    done = False\n",
    "    \n",
    "    for epoch in tqdm(range(epochs), desc=\"Epochs\", unit=\"epoch\", position=0):\n",
    "        if done:\n",
    "            break\n",
    "        total_loss = 0\n",
    "        model.train()\n",
    "        \n",
    "        # INNER TRAIN LOOP\n",
    "        for batch in tqdm(train_loader, desc=f\"Train {epoch+1}\", unit=\"batch\", leave=True, position=0):\n",
    "            input_ids = batch['input_ids'].to(device, non_blocking=non_blocking)\n",
    "            attention_mask = batch['attention_mask'].to(device, non_blocking=non_blocking)\n",
    "            labels = batch['label'].to(device, non_blocking=non_blocking)\n",
    "            \n",
    "            optimizer.zero_grad()\n",
    "            outputs = model(input_ids, attention_mask=attention_mask, labels=labels)\n",
    "            loss = outputs.loss\n",
    "            loss.backward()\n",
    "            \n",
    "            torch.nn.utils.clip_grad_norm_(model.parameters(), max_norm=1.0)\n",
    "            optimizer.step()\n",
    "            total_loss += loss.item()\n",
    "            lr_scheduler.step()\n",
    "        \n",
    "        avg_train_loss = total_loss / len(train_loader)\n",
    "        train_losses.append(avg_train_loss)\n",
    "        print(f\"\\nEpoch {epoch + 1}/{epochs}, Train Loss: {avg_train_loss:.4f}\")\n",
    "        '''\n",
    "        # VALIDATION LOOP\n",
    "        model.eval()\n",
    "        val_loss = 0\n",
    "        with torch.no_grad():\n",
    "            for batch in tqdm(val_loader, desc=f\"Val {epoch+1}\", unit=\"batch\", leave=True, position=0):\n",
    "                input_ids = batch['input_ids'].to(device)\n",
    "                attention_mask = batch['attention_mask'].to(device)\n",
    "                labels = batch['label'].to(device)\n",
    "            \n",
    "                outputs = model(input_ids, attention_mask=attention_mask, labels=labels)\n",
    "                val_loss += outputs.loss.item()\n",
    "        \n",
    "        avg_val_loss = val_loss / len(val_loader)\n",
    "        val_losses.append(avg_val_loss)\n",
    "        print(f\"Epoch {epoch + 1}/{epochs}, Val Loss: {avg_val_loss:.4f}\")\n",
    "        \n",
    "        if es(model, avg_val_loss):\n",
    "          done = True\n",
    "        '''\n",
    "    print(\"Training complete\")\n",
    "    \n",
    "    model.save_pretrained(save_path)\n",
    "    tokenizer.save_pretrained(save_path)\n",
    "    print(f\"Model saved to {save_path}\")\n",
    "    if device == \"cuda\":\n",
    "        torch.cuda.empty_cache()\n",
    "    '''\n",
    "    # Save losses to CSV\n",
    "    loss_df = pd.DataFrame({\n",
    "    'epoch': list(range(1, len(train_losses) + 1)),\n",
    "    'train_loss': train_losses,\n",
    "    'val_loss': val_losses\n",
    "    })\n",
    "    '''\n",
    "    loss_df = pd.DataFrame({\n",
    "    'epoch': list(range(1, len(train_losses) + 1)),\n",
    "    'train_loss': train_losses,\n",
    "    })\n",
    "    loss_df.to_csv(\"results/loss_history_04_17_25.csv\", index=False)\n",
    "    print(\"Loss history saved to loss_history_04_17_25.csv\")"
   ]
  },
  {
   "cell_type": "code",
   "execution_count": null,
   "id": "62f1a8bc",
   "metadata": {},
   "outputs": [
    {
     "name": "stderr",
     "output_type": "stream",
     "text": [
      "Train 1:   0%|                                                                            | 0/29462 [00:00<?, ?batch/s]"
     ]
    }
   ],
   "source": [
    "torch.cuda.empty_cache()\n",
    "train() "
   ]
  },
  {
   "cell_type": "code",
   "execution_count": null,
   "id": "b5f53a60",
   "metadata": {},
   "outputs": [],
   "source": [
    "if(os.path.exists(\"results/loss_history_04_17_25.csv\")):\n",
    "  loss_df = pd.read_csv(\"results/loss_history_04_17_25.csv\")\n",
    "\n",
    "  # Optional: extract as lists if needed\n",
    "  train_losses = loss_df['train_loss'].tolist()\n",
    "  val_losses = loss_df['val_loss'].tolist()\n",
    "\n",
    "  print(\"Loaded loss history from loss_history.csv\")\n",
    "\n",
    "  plt.plot(train_losses, label='Train Loss')\n",
    "  plt.plot(val_losses, label='Validation Loss')\n",
    "  plt.legend()\n",
    "  plt.title(\"Training & Validation Loss\")\n",
    "  plt.xlabel(\"Epoch\")\n",
    "  plt.ylabel(\"Loss\")\n",
    "  plt.savefig(\"loss_plot_04_17_25.png\")"
   ]
  },
  {
   "cell_type": "code",
   "execution_count": null,
   "id": "5b4f7edd-c324-410f-90b2-2109881e9b4f",
   "metadata": {},
   "outputs": [],
   "source": [
    "# Load the saved model\n",
    "if(os.path.exists(save_path)):\n",
    "  del model  # Clear memory\n",
    "  model = AutoModelForSequenceClassification.from_pretrained(save_path).to(device)\n",
    "  tokenizer = AutoTokenizer.from_pretrained(save_path)\n",
    "  print(\"Model loaded successfully.\")\n",
    "\n"
   ]
  },
  {
   "cell_type": "code",
   "execution_count": null,
   "id": "41ca80af-433f-4941-8668-9246e8982f72",
   "metadata": {},
   "outputs": [],
   "source": [
    "test_path = \"results/predictions_04_17_25.csv\"\n",
    "import torch.nn.functional as F\n",
    "def test():\n",
    "  # Evaluate trained model\n",
    "  model.eval()\n",
    "  y_pred, y_true = [], []\n",
    "  with torch.no_grad():\n",
    "    for batch in tqdm(test_loader, desc=\"evaluating\", unit=\"batch\"):\n",
    "      input_ids = batch['input_ids'].to(device)\n",
    "      attention_mask = batch['attention_mask'].to(device)\n",
    "      labels = batch['label'].to(device)\n",
    "      outputs = model(input_ids, attention_mask=attention_mask)\n",
    "      preds = torch.argmax(F.softmax(outputs.logits.float(), dim=-1), dim=1)\n",
    "      y_pred.extend(preds.cpu().numpy())\n",
    "      y_true.extend(labels.cpu().numpy())\n",
    "  df_test = pd.DataFrame({'y_true': y_true, 'y_pred': y_pred})\n",
    "  df_test.to_csv(test_path, index=False)\n",
    "  print(\"Predictions saved to predictions.csv\")\n",
    "\n",
    "#if(not os.path.exists(test_path)):\n",
    "test()"
   ]
  },
  {
   "cell_type": "code",
   "execution_count": null,
   "id": "ca84c1fa-809b-4b40-b076-3ad57ac4adf5",
   "metadata": {},
   "outputs": [],
   "source": [
    "import seaborn as sns\n",
    "if(os.path.exists(test_path)):\n",
    "  pred_df = pd.read_csv(test_path)\n",
    "  y_true = pred_df['y_true'].values\n",
    "  y_pred = pred_df['y_pred'].values\n",
    "  print(\"Loaded predictions from predictions_04_17_25.csv\")\n",
    "\n",
    "  # Metrics\n",
    "  accuracy = accuracy_score(y_true, y_pred)\n",
    "  f1 = f1_score(y_true, y_pred)\n",
    "  cm = confusion_matrix(y_true, y_pred)\n",
    "\n",
    "  print(f\"Accuracy: {accuracy * 100:.2f}%\")\n",
    "  print(f\"F1 Score: {f1:.2f}\")\n",
    "  print(\"Confusion Matrix:\")\n",
    "  heatmap = sns.heatmap(cm, annot=True, fmt='d')\n",
    "  plt.xlabel('Predicted')\n",
    "  plt.ylabel('Truth')\n",
    "  # Save the figure\n",
    "  figure = heatmap.get_figure()\n",
    "  figure.savefig('confusion_matrix_04_17_25.png', bbox_inches='tight')\n"
   ]
  },
  {
   "cell_type": "code",
   "execution_count": null,
   "id": "990fc918-c754-4177-8387-c6b953ef3d24",
   "metadata": {},
   "outputs": [],
   "source": []
  }
 ],
 "metadata": {
  "kernelspec": {
   "display_name": "Python (Training_Env)",
   "language": "python",
   "name": "notebook-tui-training"
  },
  "language_info": {
   "codemirror_mode": {
    "name": "ipython",
    "version": 3
   },
   "file_extension": ".py",
   "mimetype": "text/x-python",
   "name": "python",
   "nbconvert_exporter": "python",
   "pygments_lexer": "ipython3",
   "version": "3.11.9"
  }
 },
 "nbformat": 4,
 "nbformat_minor": 5
}
